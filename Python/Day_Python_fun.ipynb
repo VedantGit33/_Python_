{
 "cells": [
  {
   "cell_type": "code",
   "execution_count": 1,
   "id": "23f2b415",
   "metadata": {},
   "outputs": [],
   "source": [
    "d = {0:{'one':1,'two':2,'three':3,'four':4},\n",
    "    1:{'city':'banglore','area':'kudlu'},\n",
    "    'three':{'city':'mumbai','area':'Dharavi'}}"
   ]
  },
  {
   "cell_type": "code",
   "execution_count": 15,
   "id": "e3fe37f6",
   "metadata": {},
   "outputs": [
    {
     "name": "stdout",
     "output_type": "stream",
     "text": [
      "kudlu\n",
      "mumbai\n"
     ]
    }
   ],
   "source": [
    "print(d[1]['area'])\n",
    "print(d['three']['city'])"
   ]
  },
  {
   "cell_type": "code",
   "execution_count": 4,
   "id": "5ba0a0ba",
   "metadata": {},
   "outputs": [],
   "source": [
    "v = [0,1,2,3,[8,{5:[67,89,90,{'area':'kudlu','city':'banglore'}]}]]"
   ]
  },
  {
   "cell_type": "code",
   "execution_count": 12,
   "id": "ea90f2e0",
   "metadata": {},
   "outputs": [
    {
     "data": {
      "text/plain": [
       "'banglore'"
      ]
     },
     "execution_count": 12,
     "metadata": {},
     "output_type": "execute_result"
    }
   ],
   "source": [
    "v[4][1][5][3]['city'] "
   ]
  },
  {
   "cell_type": "code",
   "execution_count": 16,
   "id": "4fe42580",
   "metadata": {},
   "outputs": [],
   "source": [
    "dict = {'area':'kudlu','city':'banglore'}"
   ]
  },
  {
   "cell_type": "code",
   "execution_count": 17,
   "id": "fa9152c2",
   "metadata": {},
   "outputs": [],
   "source": [
    "dict.update({'key':'value1'})"
   ]
  },
  {
   "cell_type": "code",
   "execution_count": 18,
   "id": "28ad60ec",
   "metadata": {},
   "outputs": [
    {
     "data": {
      "text/plain": [
       "{'area': 'kudlu', 'city': 'banglore', 'key': 'value1'}"
      ]
     },
     "execution_count": 18,
     "metadata": {},
     "output_type": "execute_result"
    }
   ],
   "source": [
    "dict"
   ]
  },
  {
   "cell_type": "code",
   "execution_count": 19,
   "id": "c85bd607",
   "metadata": {},
   "outputs": [],
   "source": [
    "dict.update({'location':'kudlu'})"
   ]
  },
  {
   "cell_type": "code",
   "execution_count": 20,
   "id": "4ee1b31a",
   "metadata": {},
   "outputs": [
    {
     "data": {
      "text/plain": [
       "{'area': 'kudlu', 'city': 'banglore', 'key': 'value1', 'location': 'kudlu'}"
      ]
     },
     "execution_count": 20,
     "metadata": {},
     "output_type": "execute_result"
    }
   ],
   "source": [
    "dict"
   ]
  },
  {
   "cell_type": "code",
   "execution_count": 21,
   "id": "65e336e0",
   "metadata": {},
   "outputs": [],
   "source": [
    "dict['city'] = 'Maharashtra'"
   ]
  },
  {
   "cell_type": "code",
   "execution_count": 22,
   "id": "cd0221f4",
   "metadata": {},
   "outputs": [
    {
     "data": {
      "text/plain": [
       "{'area': 'kudlu', 'city': 'Maharashtra', 'key': 'value1', 'location': 'kudlu'}"
      ]
     },
     "execution_count": 22,
     "metadata": {},
     "output_type": "execute_result"
    }
   ],
   "source": [
    "dict"
   ]
  },
  {
   "cell_type": "code",
   "execution_count": 24,
   "id": "6ee9a9e7",
   "metadata": {},
   "outputs": [
    {
     "data": {
      "text/plain": [
       "'kudlu'"
      ]
     },
     "execution_count": 24,
     "metadata": {},
     "output_type": "execute_result"
    }
   ],
   "source": [
    "dict.pop('location')"
   ]
  },
  {
   "cell_type": "code",
   "execution_count": 26,
   "id": "07091bfd",
   "metadata": {},
   "outputs": [
    {
     "data": {
      "text/plain": [
       "('key', 'value1')"
      ]
     },
     "execution_count": 26,
     "metadata": {},
     "output_type": "execute_result"
    }
   ],
   "source": [
    "dict.popitem()"
   ]
  },
  {
   "cell_type": "code",
   "execution_count": 27,
   "id": "d9bc9f16",
   "metadata": {},
   "outputs": [
    {
     "data": {
      "text/plain": [
       "'Maharashtra'"
      ]
     },
     "execution_count": 27,
     "metadata": {},
     "output_type": "execute_result"
    }
   ],
   "source": [
    "dict.get('city')"
   ]
  },
  {
   "cell_type": "code",
   "execution_count": 33,
   "id": "97df1b2d",
   "metadata": {},
   "outputs": [],
   "source": [
    "new = dict.setdefault('num',5)"
   ]
  },
  {
   "cell_type": "code",
   "execution_count": 34,
   "id": "484c42f2",
   "metadata": {},
   "outputs": [
    {
     "data": {
      "text/plain": [
       "{'area': 'kudlu', 'city': 'Maharashtra', 'num': 5}"
      ]
     },
     "execution_count": 34,
     "metadata": {},
     "output_type": "execute_result"
    }
   ],
   "source": [
    "dict"
   ]
  },
  {
   "cell_type": "code",
   "execution_count": null,
   "id": "ab286b9b",
   "metadata": {},
   "outputs": [],
   "source": []
  },
  {
   "cell_type": "code",
   "execution_count": null,
   "id": "bb82a443",
   "metadata": {},
   "outputs": [],
   "source": []
  },
  {
   "cell_type": "markdown",
   "id": "127d5b2b",
   "metadata": {},
   "source": [
    "# Functions"
   ]
  },
  {
   "cell_type": "markdown",
   "id": "302d6b59",
   "metadata": {},
   "source": [
    "Types of Functions:  \n",
    "1.Predifined  \n",
    "2.User defined  \n",
    "3.Anonymous Function/Lambda function"
   ]
  },
  {
   "cell_type": "markdown",
   "id": "2fc6528a",
   "metadata": {},
   "source": [
    "Types of User defined fun:  \n",
    "1.Pass something return something  \n",
    "2.Pass something return nothing  \n",
    "3.Pass Nothing return something  \n",
    "4.Pass noth return noth \n"
   ]
  },
  {
   "cell_type": "code",
   "execution_count": 37,
   "id": "697268cf",
   "metadata": {},
   "outputs": [
    {
     "data": {
      "text/plain": [
       "27"
      ]
     },
     "execution_count": 37,
     "metadata": {},
     "output_type": "execute_result"
    }
   ],
   "source": [
    "def my_fun(a,b):\n",
    "    addi = a+b                           # Pass something return something\n",
    "    return addi\n",
    "\n",
    "my_fun(12,15)"
   ]
  },
  {
   "cell_type": "code",
   "execution_count": 38,
   "id": "93b2fea1",
   "metadata": {},
   "outputs": [
    {
     "data": {
      "text/plain": [
       "'Hello'"
      ]
     },
     "execution_count": 38,
     "metadata": {},
     "output_type": "execute_result"
    }
   ],
   "source": [
    "def greet():\n",
    "    return \"Hello\"                       # Pass nothing return something\n",
    "\n",
    "greet()"
   ]
  },
  {
   "cell_type": "code",
   "execution_count": 42,
   "id": "31bf8ce5",
   "metadata": {},
   "outputs": [
    {
     "data": {
      "text/plain": [
       "314.0"
      ]
     },
     "execution_count": 42,
     "metadata": {},
     "output_type": "execute_result"
    }
   ],
   "source": [
    "def area(r):\n",
    "    cal = 3.14*r**2\n",
    "    return cal\n",
    "\n",
    "area(10)"
   ]
  },
  {
   "cell_type": "code",
   "execution_count": 44,
   "id": "50f963ea",
   "metadata": {},
   "outputs": [],
   "source": [
    "def even_odd(n):\n",
    "    if n % 2 == 0:\n",
    "        return \"Even num\"\n",
    "    \n",
    "    else:\n",
    "        return \"Odd num\"\n"
   ]
  },
  {
   "cell_type": "code",
   "execution_count": 45,
   "id": "60900301",
   "metadata": {},
   "outputs": [
    {
     "data": {
      "text/plain": [
       "'Even num'"
      ]
     },
     "execution_count": 45,
     "metadata": {},
     "output_type": "execute_result"
    }
   ],
   "source": [
    "even_odd(60)"
   ]
  },
  {
   "cell_type": "code",
   "execution_count": 66,
   "id": "c849d4b2",
   "metadata": {},
   "outputs": [],
   "source": [
    "def percentage(a,b,c,d,e):\n",
    "    total_marks = a+b+c+d+e\n",
    "    print(\"Total Marks\",total_marks,\"/ 500\")\n",
    "    \n",
    "    per = total_marks/5\n",
    "    print(\"Percentage\",per)\n"
   ]
  },
  {
   "cell_type": "code",
   "execution_count": 67,
   "id": "78756b24",
   "metadata": {},
   "outputs": [
    {
     "name": "stdout",
     "output_type": "stream",
     "text": [
      "Total Marks 407 / 500\n",
      "Percentage 81.4\n"
     ]
    }
   ],
   "source": [
    "percentage(77,88,99,65,78)"
   ]
  },
  {
   "cell_type": "code",
   "execution_count": null,
   "id": "ecd464e5",
   "metadata": {},
   "outputs": [],
   "source": []
  },
  {
   "cell_type": "markdown",
   "id": "7e4e2774",
   "metadata": {},
   "source": [
    "# Docstring"
   ]
  },
  {
   "cell_type": "markdown",
   "id": "1af9d49e",
   "metadata": {},
   "source": [
    "1.Docstrings provide a convenient way of associating documentation with functions,classes,methods or modules.  \n",
    "2.They appear right after the definition of function,method,class or module."
   ]
  },
  {
   "cell_type": "code",
   "execution_count": 1,
   "id": "20bc5db7",
   "metadata": {},
   "outputs": [],
   "source": [
    "def sq_of_num(a):\n",
    "    '''This function will return the sq of a number.'''\n",
    "    return a**2"
   ]
  },
  {
   "cell_type": "code",
   "execution_count": 2,
   "id": "0b624a0b",
   "metadata": {},
   "outputs": [
    {
     "data": {
      "text/plain": [
       "4"
      ]
     },
     "execution_count": 2,
     "metadata": {},
     "output_type": "execute_result"
    }
   ],
   "source": [
    "sq_of_num(2)"
   ]
  },
  {
   "cell_type": "code",
   "execution_count": 3,
   "id": "22874ee5",
   "metadata": {},
   "outputs": [
    {
     "name": "stdout",
     "output_type": "stream",
     "text": [
      "This function will return the sq of a number.\n"
     ]
    }
   ],
   "source": [
    "print(sq_of_num.__doc__)"
   ]
  },
  {
   "cell_type": "code",
   "execution_count": 4,
   "id": "400ddf74",
   "metadata": {},
   "outputs": [
    {
     "data": {
      "text/plain": [
       "'This function will return the sq of a number.'"
      ]
     },
     "execution_count": 4,
     "metadata": {},
     "output_type": "execute_result"
    }
   ],
   "source": [
    "sq_of_num.__doc__"
   ]
  },
  {
   "cell_type": "code",
   "execution_count": 7,
   "id": "e91762f2",
   "metadata": {},
   "outputs": [
    {
     "name": "stdout",
     "output_type": "stream",
     "text": [
      "Defaulting to user installation because normal site-packages is not writeable\n",
      "Collecting camelcase\n",
      "  Downloading camelcase-0.2.tar.gz (1.3 kB)\n",
      "  Preparing metadata (setup.py): started\n",
      "  Preparing metadata (setup.py): finished with status 'done'\n",
      "Building wheels for collected packages: camelcase\n",
      "  Building wheel for camelcase (setup.py): started\n",
      "  Building wheel for camelcase (setup.py): finished with status 'done'\n",
      "  Created wheel for camelcase: filename=camelcase-0.2-py3-none-any.whl size=1779 sha256=54f5d15f3f4507d170bb3f087b54b3eaf3f43cddee169e36c7c8feeb2f4ca5db\n",
      "  Stored in directory: c:\\users\\computer\\appdata\\local\\pip\\cache\\wheels\\d4\\1e\\cb\\0ea324dd6d5d69394553f35eb9926168f4c55a5e5a494a8e31\n",
      "Successfully built camelcase\n",
      "Installing collected packages: camelcase\n",
      "Successfully installed camelcase-0.2\n",
      "Note: you may need to restart the kernel to use updated packages.\n"
     ]
    }
   ],
   "source": [
    "pip install camelcase"
   ]
  },
  {
   "cell_type": "code",
   "execution_count": 1,
   "id": "5641afd7",
   "metadata": {},
   "outputs": [],
   "source": [
    "import camelcase"
   ]
  },
  {
   "cell_type": "code",
   "execution_count": null,
   "id": "0d0195e9",
   "metadata": {},
   "outputs": [],
   "source": []
  },
  {
   "cell_type": "markdown",
   "id": "55443898",
   "metadata": {},
   "source": [
    "# Lambda \n",
    "1. A Lambda function is an anonymous function(function without a name.)  \n",
    "2. Lambda functions can have any number of arguments but only one expression. The expression is evaluated and returned.  \n",
    "3. We use lambda functions "
   ]
  },
  {
   "cell_type": "markdown",
   "id": "9588b8f2",
   "metadata": {},
   "source": [
    "lambda arguments : expression                   # arguments can be more than one."
   ]
  },
  {
   "cell_type": "code",
   "execution_count": 2,
   "id": "5a14b245",
   "metadata": {},
   "outputs": [
    {
     "data": {
      "text/plain": [
       "30"
      ]
     },
     "execution_count": 2,
     "metadata": {},
     "output_type": "execute_result"
    }
   ],
   "source": [
    "res = lambda a,b : a+b\n",
    "res(10,20)"
   ]
  },
  {
   "cell_type": "code",
   "execution_count": 8,
   "id": "1f5239b3",
   "metadata": {},
   "outputs": [],
   "source": [
    "#Using filter function.\n",
    "data = [1,2,3,4,5]\n",
    "a = filter(lambda x:x%2==0,data)"
   ]
  },
  {
   "cell_type": "code",
   "execution_count": 4,
   "id": "2f330871",
   "metadata": {},
   "outputs": [
    {
     "data": {
      "text/plain": [
       "<filter at 0x21eff4e69b0>"
      ]
     },
     "execution_count": 4,
     "metadata": {},
     "output_type": "execute_result"
    }
   ],
   "source": [
    "a                                                          # by default it returns the location of values."
   ]
  },
  {
   "cell_type": "code",
   "execution_count": 5,
   "id": "327bbd5a",
   "metadata": {},
   "outputs": [
    {
     "data": {
      "text/plain": [
       "[2, 4]"
      ]
     },
     "execution_count": 5,
     "metadata": {},
     "output_type": "execute_result"
    }
   ],
   "source": [
    "list(a)"
   ]
  },
  {
   "cell_type": "code",
   "execution_count": 6,
   "id": "a38f10f1",
   "metadata": {},
   "outputs": [
    {
     "data": {
      "text/plain": [
       "[1, 4, 9, 16, 25]"
      ]
     },
     "execution_count": 6,
     "metadata": {},
     "output_type": "execute_result"
    }
   ],
   "source": [
    "#Using map function.\n",
    "b = map(lambda x:x**2,data)\n",
    "list(b)"
   ]
  },
  {
   "cell_type": "code",
   "execution_count": 8,
   "id": "6df7e522",
   "metadata": {},
   "outputs": [
    {
     "data": {
      "text/plain": [
       "[3, 4, 5, 6, 7]"
      ]
     },
     "execution_count": 8,
     "metadata": {},
     "output_type": "execute_result"
    }
   ],
   "source": [
    "b = list(map(lambda x:x+2,data))\n",
    "list(b)"
   ]
  },
  {
   "cell_type": "code",
   "execution_count": 2,
   "id": "10e69f99",
   "metadata": {},
   "outputs": [],
   "source": [
    "# Using functool function\n",
    "\n",
    "from functools import reduce\n"
   ]
  },
  {
   "cell_type": "code",
   "execution_count": 9,
   "id": "be8a0c30",
   "metadata": {},
   "outputs": [
    {
     "data": {
      "text/plain": [
       "15"
      ]
     },
     "execution_count": 9,
     "metadata": {},
     "output_type": "execute_result"
    }
   ],
   "source": [
    "res = reduce(lambda a,b:a+b,data)\n",
    "res"
   ]
  },
  {
   "cell_type": "code",
   "execution_count": null,
   "id": "94844248",
   "metadata": {},
   "outputs": [],
   "source": []
  }
 ],
 "metadata": {
  "kernelspec": {
   "display_name": "Python 3 (ipykernel)",
   "language": "python",
   "name": "python3"
  },
  "language_info": {
   "codemirror_mode": {
    "name": "ipython",
    "version": 3
   },
   "file_extension": ".py",
   "mimetype": "text/x-python",
   "name": "python",
   "nbconvert_exporter": "python",
   "pygments_lexer": "ipython3",
   "version": "3.10.9"
  }
 },
 "nbformat": 4,
 "nbformat_minor": 5
}
