{
 "cells": [
  {
   "cell_type": "code",
   "execution_count": 1,
   "id": "9422eda6",
   "metadata": {},
   "outputs": [],
   "source": [
    "fact = \"Data is the new fuel\""
   ]
  },
  {
   "cell_type": "code",
   "execution_count": 3,
   "id": "ad616282",
   "metadata": {},
   "outputs": [
    {
     "data": {
      "text/plain": [
       "'fuel'"
      ]
     },
     "execution_count": 3,
     "metadata": {},
     "output_type": "execute_result"
    }
   ],
   "source": [
    "fact[16:20]"
   ]
  },
  {
   "cell_type": "code",
   "execution_count": 4,
   "id": "af1460cd",
   "metadata": {},
   "outputs": [
    {
     "data": {
      "text/plain": [
       "'Data'"
      ]
     },
     "execution_count": 4,
     "metadata": {},
     "output_type": "execute_result"
    }
   ],
   "source": [
    "fact[0:4]"
   ]
  },
  {
   "cell_type": "code",
   "execution_count": 5,
   "id": "8a025017",
   "metadata": {},
   "outputs": [
    {
     "data": {
      "text/plain": [
       "'Dt'"
      ]
     },
     "execution_count": 5,
     "metadata": {},
     "output_type": "execute_result"
    }
   ],
   "source": [
    "fact[0:3:2]"
   ]
  },
  {
   "cell_type": "code",
   "execution_count": 13,
   "id": "ede78fea",
   "metadata": {},
   "outputs": [
    {
     "data": {
      "text/plain": [
       "'fl'"
      ]
     },
     "execution_count": 13,
     "metadata": {},
     "output_type": "execute_result"
    }
   ],
   "source": [
    "fact[-4::3]"
   ]
  },
  {
   "cell_type": "code",
   "execution_count": 14,
   "id": "6650401b",
   "metadata": {},
   "outputs": [
    {
     "data": {
      "text/plain": [
       "' the new fuel'"
      ]
     },
     "execution_count": 14,
     "metadata": {},
     "output_type": "execute_result"
    }
   ],
   "source": [
    "fact[7:]"
   ]
  },
  {
   "cell_type": "code",
   "execution_count": 19,
   "id": "d7c0de63",
   "metadata": {},
   "outputs": [
    {
     "data": {
      "text/plain": [
       "' we'"
      ]
     },
     "execution_count": 19,
     "metadata": {},
     "output_type": "execute_result"
    }
   ],
   "source": [
    "fact[-5:-8:-1]"
   ]
  },
  {
   "cell_type": "markdown",
   "id": "9dd89e5e",
   "metadata": {},
   "source": [
    "# String Methods"
   ]
  },
  {
   "cell_type": "code",
   "execution_count": 20,
   "id": "11fbe002",
   "metadata": {},
   "outputs": [],
   "source": [
    "str = 'the return of the mummy'"
   ]
  },
  {
   "cell_type": "code",
   "execution_count": 21,
   "id": "a6762b34",
   "metadata": {},
   "outputs": [
    {
     "data": {
      "text/plain": [
       "'The Return Of The Mummy'"
      ]
     },
     "execution_count": 21,
     "metadata": {},
     "output_type": "execute_result"
    }
   ],
   "source": [
    "str.title()"
   ]
  },
  {
   "cell_type": "code",
   "execution_count": 22,
   "id": "65314ddb",
   "metadata": {},
   "outputs": [
    {
     "data": {
      "text/plain": [
       "['__add__',\n",
       " '__class__',\n",
       " '__contains__',\n",
       " '__delattr__',\n",
       " '__dir__',\n",
       " '__doc__',\n",
       " '__eq__',\n",
       " '__format__',\n",
       " '__ge__',\n",
       " '__getattribute__',\n",
       " '__getitem__',\n",
       " '__getnewargs__',\n",
       " '__gt__',\n",
       " '__hash__',\n",
       " '__init__',\n",
       " '__init_subclass__',\n",
       " '__iter__',\n",
       " '__le__',\n",
       " '__len__',\n",
       " '__lt__',\n",
       " '__mod__',\n",
       " '__mul__',\n",
       " '__ne__',\n",
       " '__new__',\n",
       " '__reduce__',\n",
       " '__reduce_ex__',\n",
       " '__repr__',\n",
       " '__rmod__',\n",
       " '__rmul__',\n",
       " '__setattr__',\n",
       " '__sizeof__',\n",
       " '__str__',\n",
       " '__subclasshook__',\n",
       " 'capitalize',\n",
       " 'casefold',\n",
       " 'center',\n",
       " 'count',\n",
       " 'encode',\n",
       " 'endswith',\n",
       " 'expandtabs',\n",
       " 'find',\n",
       " 'format',\n",
       " 'format_map',\n",
       " 'index',\n",
       " 'isalnum',\n",
       " 'isalpha',\n",
       " 'isascii',\n",
       " 'isdecimal',\n",
       " 'isdigit',\n",
       " 'isidentifier',\n",
       " 'islower',\n",
       " 'isnumeric',\n",
       " 'isprintable',\n",
       " 'isspace',\n",
       " 'istitle',\n",
       " 'isupper',\n",
       " 'join',\n",
       " 'ljust',\n",
       " 'lower',\n",
       " 'lstrip',\n",
       " 'maketrans',\n",
       " 'partition',\n",
       " 'removeprefix',\n",
       " 'removesuffix',\n",
       " 'replace',\n",
       " 'rfind',\n",
       " 'rindex',\n",
       " 'rjust',\n",
       " 'rpartition',\n",
       " 'rsplit',\n",
       " 'rstrip',\n",
       " 'split',\n",
       " 'splitlines',\n",
       " 'startswith',\n",
       " 'strip',\n",
       " 'swapcase',\n",
       " 'title',\n",
       " 'translate',\n",
       " 'upper',\n",
       " 'zfill']"
      ]
     },
     "execution_count": 22,
     "metadata": {},
     "output_type": "execute_result"
    }
   ],
   "source": [
    "dir(str)"
   ]
  },
  {
   "cell_type": "code",
   "execution_count": 23,
   "id": "90c28bc6",
   "metadata": {},
   "outputs": [
    {
     "data": {
      "text/plain": [
       "'THE RETURN OF THE MUMMY'"
      ]
     },
     "execution_count": 23,
     "metadata": {},
     "output_type": "execute_result"
    }
   ],
   "source": [
    "str.upper()"
   ]
  },
  {
   "cell_type": "code",
   "execution_count": 24,
   "id": "ed95a530",
   "metadata": {},
   "outputs": [
    {
     "data": {
      "text/plain": [
       "'the return of the mummy'"
      ]
     },
     "execution_count": 24,
     "metadata": {},
     "output_type": "execute_result"
    }
   ],
   "source": [
    "str.lower()"
   ]
  },
  {
   "cell_type": "code",
   "execution_count": 25,
   "id": "cd87f75d",
   "metadata": {},
   "outputs": [
    {
     "data": {
      "text/plain": [
       "False"
      ]
     },
     "execution_count": 25,
     "metadata": {},
     "output_type": "execute_result"
    }
   ],
   "source": [
    "str.isupper()"
   ]
  },
  {
   "cell_type": "code",
   "execution_count": 26,
   "id": "2e81d87a",
   "metadata": {},
   "outputs": [
    {
     "data": {
      "text/plain": [
       "False"
      ]
     },
     "execution_count": 26,
     "metadata": {},
     "output_type": "execute_result"
    }
   ],
   "source": [
    "str.startswith('H')"
   ]
  },
  {
   "cell_type": "code",
   "execution_count": 35,
   "id": "5d2667a9",
   "metadata": {},
   "outputs": [
    {
     "data": {
      "text/plain": [
       "1"
      ]
     },
     "execution_count": 35,
     "metadata": {},
     "output_type": "execute_result"
    }
   ],
   "source": [
    "str.count(\"mummy\")"
   ]
  },
  {
   "cell_type": "markdown",
   "id": "dbb79d35",
   "metadata": {},
   "source": [
    "## Strings immutable"
   ]
  },
  {
   "cell_type": "code",
   "execution_count": 1,
   "id": "c182aca4",
   "metadata": {},
   "outputs": [],
   "source": [
    "st = \"Stranger things\""
   ]
  },
  {
   "cell_type": "code",
   "execution_count": 2,
   "id": "c49a580e",
   "metadata": {},
   "outputs": [
    {
     "data": {
      "text/plain": [
       "'Danger things'"
      ]
     },
     "execution_count": 2,
     "metadata": {},
     "output_type": "execute_result"
    }
   ],
   "source": [
    "st.replace('Str','D')"
   ]
  },
  {
   "cell_type": "code",
   "execution_count": null,
   "id": "70552fa4",
   "metadata": {},
   "outputs": [],
   "source": []
  },
  {
   "cell_type": "code",
   "execution_count": 36,
   "id": "bf5af272",
   "metadata": {},
   "outputs": [
    {
     "data": {
      "text/plain": [
       "'the return of the duddy'"
      ]
     },
     "execution_count": 36,
     "metadata": {},
     "output_type": "execute_result"
    }
   ],
   "source": [
    "str.replace('m','d')"
   ]
  },
  {
   "cell_type": "code",
   "execution_count": 37,
   "id": "eeca2aab",
   "metadata": {},
   "outputs": [],
   "source": [
    "str2 = \"raunak\""
   ]
  },
  {
   "cell_type": "code",
   "execution_count": 38,
   "id": "a1733956",
   "metadata": {},
   "outputs": [
    {
     "ename": "TypeError",
     "evalue": "'str' object does not support item assignment",
     "output_type": "error",
     "traceback": [
      "\u001b[1;31m---------------------------------------------------------------------------\u001b[0m",
      "\u001b[1;31mTypeError\u001b[0m                                 Traceback (most recent call last)",
      "Cell \u001b[1;32mIn[38], line 1\u001b[0m\n\u001b[1;32m----> 1\u001b[0m str2[\u001b[38;5;241m0\u001b[39m] \u001b[38;5;241m=\u001b[39m \u001b[38;5;124m'\u001b[39m\u001b[38;5;124mv\u001b[39m\u001b[38;5;124m'\u001b[39m\n",
      "\u001b[1;31mTypeError\u001b[0m: 'str' object does not support item assignment"
     ]
    }
   ],
   "source": [
    "str2[0] = 'v'               # Bcuz string is immutable"
   ]
  },
  {
   "cell_type": "markdown",
   "id": "acece0d6",
   "metadata": {},
   "source": [
    "### String Concatenation"
   ]
  },
  {
   "cell_type": "code",
   "execution_count": 42,
   "id": "0d41ae0d",
   "metadata": {},
   "outputs": [
    {
     "name": "stdout",
     "output_type": "stream",
     "text": [
      "data mites\n"
     ]
    }
   ],
   "source": [
    "x = \"data\"\n",
    "y = \"mites\"\n",
    "\n",
    "print(x,y)"
   ]
  },
  {
   "cell_type": "code",
   "execution_count": 45,
   "id": "95eaafd0",
   "metadata": {},
   "outputs": [
    {
     "name": "stdout",
     "output_type": "stream",
     "text": [
      "pywhon\n",
      "pywhon\n"
     ]
    }
   ],
   "source": [
    "i = \"python\"                            #Interview question\n",
    "print(i[0:2]+\"whon\")\n",
    "print(i[0:2]+\"w\"+i[3:])"
   ]
  },
  {
   "cell_type": "code",
   "execution_count": 46,
   "id": "5705e96d",
   "metadata": {},
   "outputs": [],
   "source": [
    "date = \"28th November 2024\""
   ]
  },
  {
   "cell_type": "code",
   "execution_count": 47,
   "id": "46b1ad79",
   "metadata": {},
   "outputs": [
    {
     "data": {
      "text/plain": [
       "('28th ', 'November', ' 2024')"
      ]
     },
     "execution_count": 47,
     "metadata": {},
     "output_type": "execute_result"
    }
   ],
   "source": [
    "date.partition(\"November\")"
   ]
  },
  {
   "cell_type": "code",
   "execution_count": 48,
   "id": "96cfd909",
   "metadata": {},
   "outputs": [
    {
     "data": {
      "text/plain": [
       "('', '28th', ' November 2024')"
      ]
     },
     "execution_count": 48,
     "metadata": {},
     "output_type": "execute_result"
    }
   ],
   "source": [
    "date.partition('28th')"
   ]
  },
  {
   "cell_type": "code",
   "execution_count": 52,
   "id": "65af89bd",
   "metadata": {},
   "outputs": [
    {
     "data": {
      "text/plain": [
       "('28th November', ' ', '2024')"
      ]
     },
     "execution_count": 52,
     "metadata": {},
     "output_type": "execute_result"
    }
   ],
   "source": [
    "date.rpartition(\" \")"
   ]
  },
  {
   "cell_type": "markdown",
   "id": "bf71d628",
   "metadata": {},
   "source": [
    "## Split"
   ]
  },
  {
   "cell_type": "code",
   "execution_count": 56,
   "id": "c811b8ec",
   "metadata": {},
   "outputs": [
    {
     "ename": "SyntaxError",
     "evalue": "invalid syntax (3742714898.py, line 1)",
     "output_type": "error",
     "traceback": [
      "\u001b[1;36m  Cell \u001b[1;32mIn[56], line 1\u001b[1;36m\u001b[0m\n\u001b[1;33m    str.split(.)\u001b[0m\n\u001b[1;37m              ^\u001b[0m\n\u001b[1;31mSyntaxError\u001b[0m\u001b[1;31m:\u001b[0m invalid syntax\n"
     ]
    }
   ],
   "source": [
    "str.split()"
   ]
  },
  {
   "cell_type": "code",
   "execution_count": 57,
   "id": "68fc3caf",
   "metadata": {},
   "outputs": [],
   "source": [
    "comedy_show = \"India's got Latent\""
   ]
  },
  {
   "cell_type": "code",
   "execution_count": 64,
   "id": "639dd642",
   "metadata": {},
   "outputs": [
    {
     "data": {
      "text/plain": [
       "['Indi', \"'s got L\", 'tent']"
      ]
     },
     "execution_count": 64,
     "metadata": {},
     "output_type": "execute_result"
    }
   ],
   "source": [
    "comedy_show.split(\"a\")"
   ]
  },
  {
   "cell_type": "markdown",
   "id": "aa6c0a77",
   "metadata": {},
   "source": [
    "## Escape Characters"
   ]
  },
  {
   "cell_type": "markdown",
   "id": "50b469bc",
   "metadata": {},
   "source": [
    "\\t for tab space  \n",
    "\\n for new line   \n",
    "\\b for backspace"
   ]
  },
  {
   "cell_type": "code",
   "execution_count": 68,
   "id": "d78ed5f8",
   "metadata": {},
   "outputs": [
    {
     "name": "stdout",
     "output_type": "stream",
     "text": [
      "A\n",
      "BC\n",
      "D\tE\tF\n",
      "W\bX\n"
     ]
    }
   ],
   "source": [
    "print(\"A\\nBC\")\n",
    "print('D\\tE\\tF')\n",
    "print('W\\bX')"
   ]
  },
  {
   "cell_type": "markdown",
   "id": "8850d18f",
   "metadata": {},
   "source": [
    "## Typecasting"
   ]
  },
  {
   "cell_type": "markdown",
   "id": "15880b06",
   "metadata": {},
   "source": [
    "conversion of one type to another\n",
    "1.Automatic type casting\n",
    "2.Forced type casting"
   ]
  },
  {
   "cell_type": "code",
   "execution_count": 69,
   "id": "7f34ed0d",
   "metadata": {},
   "outputs": [
    {
     "data": {
      "text/plain": [
       "2"
      ]
     },
     "execution_count": 69,
     "metadata": {},
     "output_type": "execute_result"
    }
   ],
   "source": [
    "2 + False  # False means 0 (Automatic typecasting)"
   ]
  },
  {
   "cell_type": "code",
   "execution_count": 70,
   "id": "aff0acd3",
   "metadata": {},
   "outputs": [
    {
     "data": {
      "text/plain": [
       "45"
      ]
     },
     "execution_count": 70,
     "metadata": {},
     "output_type": "execute_result"
    }
   ],
   "source": [
    "int(\"45\")"
   ]
  },
  {
   "cell_type": "code",
   "execution_count": 73,
   "id": "30b6499e",
   "metadata": {},
   "outputs": [
    {
     "ename": "TypeError",
     "evalue": "'str' object is not callable",
     "output_type": "error",
     "traceback": [
      "\u001b[1;31m---------------------------------------------------------------------------\u001b[0m",
      "\u001b[1;31mTypeError\u001b[0m                                 Traceback (most recent call last)",
      "Cell \u001b[1;32mIn[73], line 1\u001b[0m\n\u001b[1;32m----> 1\u001b[0m \u001b[38;5;28;43mstr\u001b[39;49m\u001b[43m(\u001b[49m\u001b[38;5;241;43m23.4\u001b[39;49m\u001b[43m)\u001b[49m\n",
      "\u001b[1;31mTypeError\u001b[0m: 'str' object is not callable"
     ]
    }
   ],
   "source": [
    "str(23.4)"
   ]
  },
  {
   "cell_type": "code",
   "execution_count": 1,
   "id": "9efb0d18",
   "metadata": {},
   "outputs": [
    {
     "data": {
      "text/plain": [
       "1.0"
      ]
     },
     "execution_count": 1,
     "metadata": {},
     "output_type": "execute_result"
    }
   ],
   "source": [
    "float(True)"
   ]
  },
  {
   "cell_type": "code",
   "execution_count": null,
   "id": "25547199",
   "metadata": {},
   "outputs": [],
   "source": []
  }
 ],
 "metadata": {
  "kernelspec": {
   "display_name": "Python 3 (ipykernel)",
   "language": "python",
   "name": "python3"
  },
  "language_info": {
   "codemirror_mode": {
    "name": "ipython",
    "version": 3
   },
   "file_extension": ".py",
   "mimetype": "text/x-python",
   "name": "python",
   "nbconvert_exporter": "python",
   "pygments_lexer": "ipython3",
   "version": "3.10.9"
  }
 },
 "nbformat": 4,
 "nbformat_minor": 5
}
