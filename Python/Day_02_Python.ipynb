{
 "cells": [
  {
   "cell_type": "markdown",
   "id": "2eaf4c04",
   "metadata": {},
   "source": [
    "## Python session Day 2"
   ]
  },
  {
   "cell_type": "code",
   "execution_count": 1,
   "id": "bde2fe28",
   "metadata": {},
   "outputs": [
    {
     "name": "stdout",
     "output_type": "stream",
     "text": [
      "Help on built-in function print in module builtins:\n",
      "\n",
      "print(...)\n",
      "    print(value, ..., sep=' ', end='\\n', file=sys.stdout, flush=False)\n",
      "    \n",
      "    Prints the values to a stream, or to sys.stdout by default.\n",
      "    Optional keyword arguments:\n",
      "    file:  a file-like object (stream); defaults to the current sys.stdout.\n",
      "    sep:   string inserted between values, default a space.\n",
      "    end:   string appended after the last value, default a newline.\n",
      "    flush: whether to forcibly flush the stream.\n",
      "\n"
     ]
    }
   ],
   "source": [
    "help(print)"
   ]
  },
  {
   "cell_type": "code",
   "execution_count": 2,
   "id": "cebe8fd8",
   "metadata": {},
   "outputs": [
    {
     "name": "stdout",
     "output_type": "stream",
     "text": [
      "4\n",
      "x\n"
     ]
    }
   ],
   "source": [
    "x = 4\n",
    "print(x)\n",
    "print(\"x\")"
   ]
  },
  {
   "cell_type": "code",
   "execution_count": 5,
   "id": "a0fd9500",
   "metadata": {},
   "outputs": [
    {
     "name": "stdout",
     "output_type": "stream",
     "text": [
      "<class 'float'>\n"
     ]
    }
   ],
   "source": [
    "print(type(6.7))         #Type() shows the datatype"
   ]
  },
  {
   "cell_type": "code",
   "execution_count": 6,
   "id": "64422721",
   "metadata": {},
   "outputs": [
    {
     "data": {
      "text/plain": [
       "float"
      ]
     },
     "execution_count": 6,
     "metadata": {},
     "output_type": "execute_result"
    }
   ],
   "source": [
    "type(-3/10)"
   ]
  },
  {
   "cell_type": "code",
   "execution_count": 7,
   "id": "86c1bf81",
   "metadata": {},
   "outputs": [
    {
     "name": "stdout",
     "output_type": "stream",
     "text": [
      "Help on built-in function round in module builtins:\n",
      "\n",
      "round(number, ndigits=None)\n",
      "    Round a number to a given precision in decimal digits.\n",
      "    \n",
      "    The return value is an integer if ndigits is omitted or None.  Otherwise\n",
      "    the return value has the same type as the number.  ndigits may be negative.\n",
      "\n"
     ]
    }
   ],
   "source": [
    "help(round)"
   ]
  },
  {
   "cell_type": "code",
   "execution_count": 8,
   "id": "560b59e5",
   "metadata": {},
   "outputs": [
    {
     "name": "stdout",
     "output_type": "stream",
     "text": [
      "16\n"
     ]
    }
   ],
   "source": [
    "num = 15.78\n",
    "print(round(num))"
   ]
  },
  {
   "cell_type": "code",
   "execution_count": 11,
   "id": "7ba145cf",
   "metadata": {},
   "outputs": [
    {
     "name": "stdout",
     "output_type": "stream",
     "text": [
      "28793.5\n",
      "28793.55\n",
      "28793.548\n",
      "28793.5484\n"
     ]
    }
   ],
   "source": [
    "x = 28793.54836\n",
    "print(round(x,1))              # Round see the first place after decimal\n",
    "print(round(x,2)) \n",
    "print(round(x,3)) \n",
    "print(round(x,4)) "
   ]
  },
  {
   "cell_type": "code",
   "execution_count": 12,
   "id": "756e5c7e",
   "metadata": {},
   "outputs": [
    {
     "name": "stdout",
     "output_type": "stream",
     "text": [
      "1235.45646\n",
      "1235.456456\n",
      "1235.46\n",
      "1235\n"
     ]
    }
   ],
   "source": [
    "num = 1235.45645623\n",
    "print(round(num,5))\n",
    "print(round(num,6))\n",
    "print(round(num,2))\n",
    "print(round(num))"
   ]
  },
  {
   "cell_type": "code",
   "execution_count": null,
   "id": "b7f0834b",
   "metadata": {},
   "outputs": [],
   "source": [
    "#Reserved Keywords.\n"
   ]
  },
  {
   "cell_type": "code",
   "execution_count": 13,
   "id": "067a267f",
   "metadata": {},
   "outputs": [
    {
     "name": "stdout",
     "output_type": "stream",
     "text": [
      "['False', 'None', 'True', 'and', 'as', 'assert', 'async', 'await', 'break', 'class', 'continue', 'def', 'del', 'elif', 'else', 'except', 'finally', 'for', 'from', 'global', 'if', 'import', 'in', 'is', 'lambda', 'nonlocal', 'not', 'or', 'pass', 'raise', 'return', 'try', 'while', 'with', 'yield']\n"
     ]
    }
   ],
   "source": [
    "import keyword\n",
    "print(keyword.kwlist)"
   ]
  },
  {
   "cell_type": "code",
   "execution_count": 14,
   "id": "99b14435",
   "metadata": {},
   "outputs": [
    {
     "ename": "SyntaxError",
     "evalue": "invalid syntax (264690542.py, line 1)",
     "output_type": "error",
     "traceback": [
      "\u001b[1;36m  Cell \u001b[1;32mIn[14], line 1\u001b[1;36m\u001b[0m\n\u001b[1;33m    del = 5\u001b[0m\n\u001b[1;37m        ^\u001b[0m\n\u001b[1;31mSyntaxError\u001b[0m\u001b[1;31m:\u001b[0m invalid syntax\n"
     ]
    }
   ],
   "source": [
    "del = 5"
   ]
  },
  {
   "cell_type": "code",
   "execution_count": null,
   "id": "63d168c9",
   "metadata": {},
   "outputs": [],
   "source": [
    "#Keywords are reserved for a specific purpose."
   ]
  },
  {
   "cell_type": "markdown",
   "id": "713062dd",
   "metadata": {},
   "source": [
    "## Variables"
   ]
  },
  {
   "cell_type": "code",
   "execution_count": 1,
   "id": "2fd00474",
   "metadata": {},
   "outputs": [
    {
     "name": "stdout",
     "output_type": "stream",
     "text": [
      "3\n",
      "6\n"
     ]
    }
   ],
   "source": [
    "a = 5\n",
    "b = 6\n",
    "del a\n",
    "a= 3\n",
    "print(a)\n",
    "print(b)"
   ]
  },
  {
   "cell_type": "markdown",
   "id": "bdd2f77b",
   "metadata": {},
   "source": [
    "**Python**"
   ]
  },
  {
   "cell_type": "code",
   "execution_count": 16,
   "id": "b9f734be",
   "metadata": {},
   "outputs": [
    {
     "name": "stdout",
     "output_type": "stream",
     "text": [
      "3\n"
     ]
    }
   ],
   "source": [
    "a = 5\n",
    "b = 7\n",
    "a = 3\n",
    "print(a)"
   ]
  },
  {
   "cell_type": "markdown",
   "id": "ba9fdedd",
   "metadata": {},
   "source": [
    "k h a r a d i\n",
    "0 1 2 3 4 5 6"
   ]
  },
  {
   "cell_type": "code",
   "execution_count": null,
   "id": "1005e4e5",
   "metadata": {},
   "outputs": [],
   "source": []
  },
  {
   "cell_type": "code",
   "execution_count": null,
   "id": "e121b8f5",
   "metadata": {},
   "outputs": [],
   "source": []
  }
 ],
 "metadata": {
  "kernelspec": {
   "display_name": "Python 3 (ipykernel)",
   "language": "python",
   "name": "python3"
  },
  "language_info": {
   "codemirror_mode": {
    "name": "ipython",
    "version": 3
   },
   "file_extension": ".py",
   "mimetype": "text/x-python",
   "name": "python",
   "nbconvert_exporter": "python",
   "pygments_lexer": "ipython3",
   "version": "3.10.9"
  }
 },
 "nbformat": 4,
 "nbformat_minor": 5
}
