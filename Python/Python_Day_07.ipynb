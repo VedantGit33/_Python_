{
 "cells": [
  {
   "cell_type": "code",
   "execution_count": 2,
   "id": "9ddab6a9",
   "metadata": {},
   "outputs": [],
   "source": [
    "# Range\n",
    "\n",
    "a = range(6)"
   ]
  },
  {
   "cell_type": "code",
   "execution_count": 3,
   "id": "0dc307b4",
   "metadata": {},
   "outputs": [
    {
     "data": {
      "text/plain": [
       "range(0, 6)"
      ]
     },
     "execution_count": 3,
     "metadata": {},
     "output_type": "execute_result"
    }
   ],
   "source": [
    "a"
   ]
  },
  {
   "cell_type": "code",
   "execution_count": 5,
   "id": "440708c7",
   "metadata": {},
   "outputs": [
    {
     "data": {
      "text/plain": [
       "[0, 1, 2, 3, 4, 5]"
      ]
     },
     "execution_count": 5,
     "metadata": {},
     "output_type": "execute_result"
    }
   ],
   "source": [
    "list(a)"
   ]
  },
  {
   "cell_type": "code",
   "execution_count": 14,
   "id": "890e3f98",
   "metadata": {},
   "outputs": [
    {
     "data": {
      "text/plain": [
       "[10, 8, 6]"
      ]
     },
     "execution_count": 14,
     "metadata": {},
     "output_type": "execute_result"
    }
   ],
   "source": [
    "list(range(10,5,-2))"
   ]
  },
  {
   "cell_type": "code",
   "execution_count": 12,
   "id": "cd376d32",
   "metadata": {},
   "outputs": [
    {
     "data": {
      "text/plain": [
       "[0, -2, -4, -6, -8]"
      ]
     },
     "execution_count": 12,
     "metadata": {},
     "output_type": "execute_result"
    }
   ],
   "source": [
    "list(range(0,-9,-2))"
   ]
  },
  {
   "cell_type": "code",
   "execution_count": 7,
   "id": "39ea595d",
   "metadata": {},
   "outputs": [
    {
     "name": "stdout",
     "output_type": "stream",
     "text": [
      "0\n",
      "1\n",
      "2\n",
      "3\n",
      "4\n"
     ]
    }
   ],
   "source": [
    "for i in range(5):\n",
    "    print(i)"
   ]
  },
  {
   "cell_type": "code",
   "execution_count": 15,
   "id": "5a9e55fd",
   "metadata": {},
   "outputs": [
    {
     "name": "stdout",
     "output_type": "stream",
     "text": [
      "0\n",
      "1\n",
      "2\n",
      "3\n",
      "4\n",
      "5\n",
      "6\n",
      "7\n",
      "8\n",
      "9\n",
      "Hello\n"
     ]
    }
   ],
   "source": [
    "for i in range(10):\n",
    "    print(i)\n",
    "print(\"Hello\")"
   ]
  },
  {
   "cell_type": "code",
   "execution_count": 18,
   "id": "76582e57",
   "metadata": {},
   "outputs": [
    {
     "name": "stdout",
     "output_type": "stream",
     "text": [
      "D\n",
      "a\n",
      "t\n",
      "a\n",
      "m\n",
      "i\n",
      "t\n",
      "e\n",
      "s\n",
      "Completed!\n"
     ]
    }
   ],
   "source": [
    "for i in \"Datamites\":\n",
    "    print(i)\n",
    "    \n",
    "print(\"Completed!\")"
   ]
  },
  {
   "cell_type": "code",
   "execution_count": 22,
   "id": "968c1db8",
   "metadata": {},
   "outputs": [
    {
     "name": "stdout",
     "output_type": "stream",
     "text": [
      "Enter a num:5\n",
      "5\n",
      "10\n",
      "15\n",
      "20\n",
      "25\n",
      "30\n",
      "35\n",
      "40\n",
      "45\n",
      "50\n"
     ]
    }
   ],
   "source": [
    "i = int(input(\"Enter a num:\"))\n",
    "x = 1\n",
    "for x in range(1,11):\n",
    "    print(i*x)"
   ]
  },
  {
   "cell_type": "code",
   "execution_count": 28,
   "id": "40fca62b",
   "metadata": {},
   "outputs": [
    {
     "name": "stdout",
     "output_type": "stream",
     "text": [
      "11 22 33 44 55 66 77 88 99 110 \n",
      "12 24 36 48 60 72 84 96 108 120 \n",
      "13 26 39 52 65 78 91 104 117 130 \n",
      "14 28 42 56 70 84 98 112 126 140 \n",
      "15 30 45 60 75 90 105 120 135 150 \n",
      "16 32 48 64 80 96 112 128 144 160 \n",
      "17 34 51 68 85 102 119 136 153 170 \n",
      "18 36 54 72 90 108 126 144 162 180 \n",
      "19 38 57 76 95 114 133 152 171 190 \n",
      "20 40 60 80 100 120 140 160 180 200 \n"
     ]
    }
   ],
   "source": [
    "for x in range(11,21):\n",
    "    for i in range(1,11):\n",
    "        print(x*i,end=\" \")\n",
    "    print()"
   ]
  },
  {
   "cell_type": "code",
   "execution_count": 39,
   "id": "9bc0f646",
   "metadata": {},
   "outputs": [
    {
     "name": "stdout",
     "output_type": "stream",
     "text": [
      "Enter a num:5\n",
      "Prime no\n"
     ]
    }
   ],
   "source": [
    "num = int(input(\"Enter a num:\"))\n",
    "c=0\n",
    "for i in range(2,num):                  # 1)5 % 2 == 0   c= 0 \n",
    "    if (num%i==0):\n",
    "        c=1\n",
    "        break\n",
    "        \n",
    "if (c==0):\n",
    "    print(\"Prime no\")\n",
    "else:\n",
    "    print(\"Not Prime\")\n",
    "        "
   ]
  },
  {
   "cell_type": "code",
   "execution_count": 40,
   "id": "34238a26",
   "metadata": {},
   "outputs": [
    {
     "name": "stdout",
     "output_type": "stream",
     "text": [
      "0\n",
      "1\n",
      "2\n",
      "3\n",
      "4\n",
      "Hello\n"
     ]
    }
   ],
   "source": [
    "for i in range(5):\n",
    "    print(i)\n",
    "                                              \n",
    "else:\n",
    "    print(\"Hello\")"
   ]
  },
  {
   "cell_type": "code",
   "execution_count": 43,
   "id": "7b1604ab",
   "metadata": {},
   "outputs": [
    {
     "name": "stdout",
     "output_type": "stream",
     "text": [
      "Not Prime\n"
     ]
    }
   ],
   "source": [
    "num = 6\n",
    "for i in range(2,num):\n",
    "    if num % i == 0:\n",
    "        print(\"Not Prime\")\n",
    "        break\n",
    "        \n",
    "else:\n",
    "    print(\"Prime\")"
   ]
  },
  {
   "cell_type": "code",
   "execution_count": 53,
   "id": "54d6d498",
   "metadata": {},
   "outputs": [
    {
     "name": "stdout",
     "output_type": "stream",
     "text": [
      "* \n",
      "* * \n",
      "* * * \n",
      "* * * * \n"
     ]
    }
   ],
   "source": [
    "for i in range(1,5):\n",
    "    print('* '*i)"
   ]
  },
  {
   "cell_type": "code",
   "execution_count": 54,
   "id": "ff491fcc",
   "metadata": {},
   "outputs": [
    {
     "name": "stdout",
     "output_type": "stream",
     "text": [
      "& \n",
      "# # \n",
      "& & & \n",
      "# # # # \n"
     ]
    }
   ],
   "source": [
    "for i in range(1,5):\n",
    "    if i % 2==0:\n",
    "        print('# '*i)\n",
    "        \n",
    "    else :\n",
    "        print('& '*i)"
   ]
  },
  {
   "cell_type": "code",
   "execution_count": null,
   "id": "9b70474f",
   "metadata": {},
   "outputs": [],
   "source": []
  },
  {
   "cell_type": "markdown",
   "id": "9cdec662",
   "metadata": {},
   "source": [
    "1  \n",
    "1 2  \n",
    "1 2 3  \n",
    "1 2 3 4  "
   ]
  },
  {
   "cell_type": "code",
   "execution_count": null,
   "id": "0cc160e2",
   "metadata": {},
   "outputs": [],
   "source": []
  },
  {
   "cell_type": "code",
   "execution_count": 3,
   "id": "219a1686",
   "metadata": {},
   "outputs": [],
   "source": [
    "l1 = []\n",
    "for i in range(-1,len(\"Datamites\"),-1):\n",
    "    m = i*i\n",
    "    l.append(m)\n",
    "    print(l)"
   ]
  },
  {
   "cell_type": "code",
   "execution_count": null,
   "id": "439d9246",
   "metadata": {},
   "outputs": [],
   "source": []
  }
 ],
 "metadata": {
  "kernelspec": {
   "display_name": "Python 3 (ipykernel)",
   "language": "python",
   "name": "python3"
  },
  "language_info": {
   "codemirror_mode": {
    "name": "ipython",
    "version": 3
   },
   "file_extension": ".py",
   "mimetype": "text/x-python",
   "name": "python",
   "nbconvert_exporter": "python",
   "pygments_lexer": "ipython3",
   "version": "3.10.9"
  }
 },
 "nbformat": 4,
 "nbformat_minor": 5
}
