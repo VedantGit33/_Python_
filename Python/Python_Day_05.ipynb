{
 "cells": [
  {
   "cell_type": "markdown",
   "id": "ca97fbcb",
   "metadata": {},
   "source": [
    "## String Formatting"
   ]
  },
  {
   "cell_type": "code",
   "execution_count": 1,
   "id": "1600cf9f",
   "metadata": {},
   "outputs": [
    {
     "data": {
      "text/plain": [
       "'This pen costs 125 rupees.'"
      ]
     },
     "execution_count": 1,
     "metadata": {},
     "output_type": "execute_result"
    }
   ],
   "source": [
    "'This {0} costs {1} rupees.'.format(\"pen\",125)     # Just replacing values with {0} and {1}"
   ]
  },
  {
   "cell_type": "code",
   "execution_count": 3,
   "id": "894e596f",
   "metadata": {},
   "outputs": [
    {
     "data": {
      "text/plain": [
       "'7 10000000'"
      ]
     },
     "execution_count": 3,
     "metadata": {},
     "output_type": "execute_result"
    }
   ],
   "source": [
    "'{0} {1}'.format(7,10**7)"
   ]
  },
  {
   "cell_type": "code",
   "execution_count": 8,
   "id": "f994dc75",
   "metadata": {},
   "outputs": [
    {
     "name": "stdout",
     "output_type": "stream",
     "text": [
      "1\n",
      " 1\n",
      "  1\n"
     ]
    }
   ],
   "source": [
    "print(\"{0:>1}\".format(1))                          # '>1' after colon defines space to the right.\n",
    "print(\"{0:>2}\".format(1))                          #  '>1' means only one space to the right , '>2' means two spaces to the right and so on..\n",
    "print(\"{0:>3}\".format(1))"
   ]
  },
  {
   "cell_type": "code",
   "execution_count": 1,
   "id": "f3ec7e59",
   "metadata": {},
   "outputs": [
    {
     "name": "stdout",
     "output_type": "stream",
     "text": [
      "2 2 2\n",
      " 1 1\n",
      "  0\n",
      " 1 1\n",
      "2 2 2\n"
     ]
    }
   ],
   "source": [
    "# task\n",
    "\n",
    "print(\"{0} {1} {2}\".format(2,2,2))\n",
    "print(\"{0:>2} {1}\".format(1,1))\n",
    "print(\"{0:>3}\".format(0))\n",
    "print(\"{0:>2} {1}\".format(1,1))\n",
    "print(\"{0} {1} {2}\".format(2,2,2))"
   ]
  },
  {
   "cell_type": "markdown",
   "id": "596954ab",
   "metadata": {},
   "source": [
    "### User Input"
   ]
  },
  {
   "cell_type": "code",
   "execution_count": 18,
   "id": "ebe33ec1",
   "metadata": {},
   "outputs": [
    {
     "name": "stdout",
     "output_type": "stream",
     "text": [
      "Number:3\n",
      "<class 'str'>\n"
     ]
    }
   ],
   "source": [
    "number = input(\"Number:\")                   # By default input function takes string input.\n",
    "print(type(number))"
   ]
  },
  {
   "cell_type": "code",
   "execution_count": 19,
   "id": "6d4bd120",
   "metadata": {},
   "outputs": [
    {
     "name": "stdout",
     "output_type": "stream",
     "text": [
      "Number:9\n",
      "<class 'int'>\n"
     ]
    }
   ],
   "source": [
    "number = int(input(\"Number:\"))              # To specify or to take an integer input from user we can use int before input function .\n",
    "print(type(number))                         # Same goes with float"
   ]
  },
  {
   "cell_type": "markdown",
   "id": "999e49b9",
   "metadata": {},
   "source": [
    "## Operator"
   ]
  },
  {
   "cell_type": "markdown",
   "id": "6ae3b3ac",
   "metadata": {},
   "source": [
    "### Arithmetic Operators"
   ]
  },
  {
   "cell_type": "code",
   "execution_count": 20,
   "id": "58af2c57",
   "metadata": {},
   "outputs": [
    {
     "name": "stdout",
     "output_type": "stream",
     "text": [
      "8.0\n"
     ]
    }
   ],
   "source": [
    "a = 16                                      # / sign always gives output in float.\n",
    "print(a/2)"
   ]
  },
  {
   "cell_type": "code",
   "execution_count": 21,
   "id": "6e32b4a7",
   "metadata": {},
   "outputs": [
    {
     "name": "stdout",
     "output_type": "stream",
     "text": [
      "8\n"
     ]
    }
   ],
   "source": [
    "print(a//2)                                 # to get it in integer format we can use // sign."
   ]
  },
  {
   "cell_type": "code",
   "execution_count": 22,
   "id": "7efc2c7b",
   "metadata": {},
   "outputs": [
    {
     "name": "stdout",
     "output_type": "stream",
     "text": [
      "0\n"
     ]
    }
   ],
   "source": [
    "print(a%2)                                  # % it's not percentage its modulus or mod which basically gives you the \n",
    "                                            # remainder after the dividation."
   ]
  },
  {
   "cell_type": "code",
   "execution_count": 2,
   "id": "3995c3f0",
   "metadata": {},
   "outputs": [
    {
     "data": {
      "text/plain": [
       "0"
      ]
     },
     "execution_count": 2,
     "metadata": {},
     "output_type": "execute_result"
    }
   ],
   "source": [
    "16 % 2                                      # Try other arithmetic like + - * "
   ]
  },
  {
   "cell_type": "markdown",
   "id": "655fd8aa",
   "metadata": {},
   "source": [
    "### Comparison operator"
   ]
  },
  {
   "cell_type": "code",
   "execution_count": 27,
   "id": "6bf67e27",
   "metadata": {},
   "outputs": [
    {
     "name": "stdout",
     "output_type": "stream",
     "text": [
      "False\n",
      "False\n",
      "True\n",
      "True\n",
      "False\n"
     ]
    }
   ],
   "source": [
    "x = 2\n",
    "y = 3                                              \n",
    "                                             # Comaprison operators always gives you op in bool format i.e True or False\n",
    "print(x>y)\n",
    "print(x>=y)\n",
    "print(x<y)\n",
    "print(x<=y)\n",
    "print(x==y)"
   ]
  },
  {
   "cell_type": "markdown",
   "id": "cbc0b047",
   "metadata": {},
   "source": [
    "## Logical Operators"
   ]
  },
  {
   "cell_type": "code",
   "execution_count": 4,
   "id": "31ddf7b7",
   "metadata": {},
   "outputs": [],
   "source": [
    "# Logical Operators  -  'and' 'or' 'not'\n",
    "\n",
    "a = 10\n",
    "b = 20\n"
   ]
  },
  {
   "cell_type": "code",
   "execution_count": 5,
   "id": "e43898da",
   "metadata": {},
   "outputs": [
    {
     "data": {
      "text/plain": [
       "False"
      ]
     },
     "execution_count": 5,
     "metadata": {},
     "output_type": "execute_result"
    }
   ],
   "source": [
    "a > b and a == b                               # If both the conditions are true then only the op will be true else false"
   ]
  },
  {
   "cell_type": "code",
   "execution_count": 6,
   "id": "0fea2185",
   "metadata": {},
   "outputs": [
    {
     "data": {
      "text/plain": [
       "True"
      ]
     },
     "execution_count": 6,
     "metadata": {},
     "output_type": "execute_result"
    }
   ],
   "source": [
    "a < b or a > b                                 # If either one of the condition is true the op will True ."
   ]
  },
  {
   "cell_type": "code",
   "execution_count": 9,
   "id": "7014730f",
   "metadata": {},
   "outputs": [
    {
     "data": {
      "text/plain": [
       "True"
      ]
     },
     "execution_count": 9,
     "metadata": {},
     "output_type": "execute_result"
    }
   ],
   "source": [
    "not (a>b and a<b)                              # It basically gives you the opposite op (means if op is True NOT makes it opposite)\n"
   ]
  },
  {
   "cell_type": "markdown",
   "id": "597bdc8d",
   "metadata": {},
   "source": [
    "## IF - ELSE Statement"
   ]
  },
  {
   "cell_type": "code",
   "execution_count": 30,
   "id": "6e5947a0",
   "metadata": {},
   "outputs": [
    {
     "data": {
      "text/plain": [
       "'Drive Normally'"
      ]
     },
     "execution_count": 30,
     "metadata": {},
     "output_type": "execute_result"
    }
   ],
   "source": [
    "def driving_speed(x):                             # Ignore this code\n",
    "    if x >= 15:\n",
    "        return \"Drive Slow\"\n",
    "    else :\n",
    "        return \"Drive Normally\"\n",
    "    \n",
    "driving_speed(13)"
   ]
  },
  {
   "cell_type": "markdown",
   "id": "cad3a74f",
   "metadata": {},
   "source": [
    "Syntax of both if statements and if else statements.\n",
    "\n",
    "if condition then                             # It means if the condition is true then only the statement will be executed. \n",
    "    statement \n",
    "    \n",
    "    \n",
    "if condition then  \n",
    "    statement                                  # If condition is true then print .                         \n",
    "else  \n",
    "    statement                                  # Or else print second statement ."
   ]
  },
  {
   "cell_type": "code",
   "execution_count": 3,
   "id": "69252637",
   "metadata": {},
   "outputs": [
    {
     "name": "stdout",
     "output_type": "stream",
     "text": [
      "Pls! Don't funciknn drink and drive\n"
     ]
    }
   ],
   "source": [
    "drunk = True\n",
    "speed_limit = 200\n",
    "\n",
    "if 250>speed_limit and drunk:\n",
    "    print(\"Pls! Don't funciknn drink and drive\")"
   ]
  },
  {
   "cell_type": "code",
   "execution_count": 35,
   "id": "7ee31d01",
   "metadata": {},
   "outputs": [
    {
     "name": "stdout",
     "output_type": "stream",
     "text": [
      "Enter your BMI:18\n",
      "Underweight\n"
     ]
    }
   ],
   "source": [
    "x = float(input(\"Enter your BMI:\"))\n",
    "\n",
    "if x >= 24.9:\n",
    "    print(\"Obese\")\n",
    "    \n",
    "elif x<=18:\n",
    "    print(\"Underweight\")\n",
    "    \n",
    "else:\n",
    "    print(\"Normal BMI\")"
   ]
  },
  {
   "cell_type": "code",
   "execution_count": 2,
   "id": "d9687d13",
   "metadata": {},
   "outputs": [
    {
     "ename": "SyntaxError",
     "evalue": "invalid syntax (1409002729.py, line 6)",
     "output_type": "error",
     "traceback": [
      "\u001b[1;36m  Cell \u001b[1;32mIn[2], line 6\u001b[1;36m\u001b[0m\n\u001b[1;33m    elif a<b:\u001b[0m\n\u001b[1;37m    ^\u001b[0m\n\u001b[1;31mSyntaxError\u001b[0m\u001b[1;31m:\u001b[0m invalid syntax\n"
     ]
    }
   ],
   "source": [
    "a = 50 \n",
    "b = 55\n",
    "if a+b==100:\n",
    "    print(\"a is greater\")\n",
    "#print(\"dfhdvh\")\n",
    "elif a<b:\n",
    "    print(\"b is greater\")\n",
    "else:\n",
    "    print(\"Both equal\")"
   ]
  },
  {
   "cell_type": "code",
   "execution_count": 4,
   "id": "827b8a99",
   "metadata": {},
   "outputs": [
    {
     "name": "stdout",
     "output_type": "stream",
     "text": [
      "+ve num\n"
     ]
    }
   ],
   "source": [
    "a = 10\n",
    "if a>=0:\n",
    "    print('+ve num')\n",
    "    \n",
    "elif a==0:\n",
    "    print('equal')\n",
    "    \n",
    "else:\n",
    "    print('-ve num')"
   ]
  },
  {
   "cell_type": "code",
   "execution_count": 6,
   "id": "6cc62174",
   "metadata": {},
   "outputs": [
    {
     "name": "stdout",
     "output_type": "stream",
     "text": [
      "Enter a num:10\n",
      "Even num\n"
     ]
    }
   ],
   "source": [
    "x = int(input(\"Enter a num:\"))\n",
    "if x % 2 == 0:\n",
    "    print(\"Even num\")\n",
    "    \n",
    "else:\n",
    "    print(\"Odd num\")"
   ]
  },
  {
   "cell_type": "code",
   "execution_count": 3,
   "id": "78be6a00",
   "metadata": {},
   "outputs": [
    {
     "name": "stdout",
     "output_type": "stream",
     "text": [
      "0\n",
      "1\n",
      "2\n",
      "3\n",
      "4\n",
      "5\n",
      "6\n",
      "7\n",
      "8\n",
      "9\n",
      "10\n",
      "Hello\n"
     ]
    }
   ],
   "source": [
    "a = 0\n",
    "while a<=10:\n",
    "    print(a)\n",
    "    a+=1\n",
    "print(\"Hello\")"
   ]
  },
  {
   "cell_type": "code",
   "execution_count": 2,
   "id": "84545a7e",
   "metadata": {},
   "outputs": [
    {
     "name": "stdout",
     "output_type": "stream",
     "text": [
      "10\n",
      "9\n",
      "8\n",
      "7\n",
      "6\n",
      "5\n",
      "4\n",
      "3\n",
      "2\n",
      "1\n",
      "Hello\n"
     ]
    }
   ],
   "source": [
    "a = 10\n",
    "while a>=1:\n",
    "    print(a)\n",
    "    a-=1\n",
    "    \n",
    "print(\"Hello\")"
   ]
  },
  {
   "cell_type": "code",
   "execution_count": 7,
   "id": "3cd1abb0",
   "metadata": {},
   "outputs": [
    {
     "name": "stdout",
     "output_type": "stream",
     "text": [
      "Enter a num:5\n",
      "5\n",
      "10\n",
      "15\n",
      "20\n",
      "25\n",
      "30\n",
      "35\n",
      "40\n",
      "45\n",
      "50\n",
      "Hello\n"
     ]
    }
   ],
   "source": [
    "num = int(input(\"Enter a num:\"))\n",
    "x = 1\n",
    "\n",
    "while x<=10:\n",
    "    print(num*x)\n",
    "    x+=1\n",
    "    \n",
    "    \n",
    "print(\"Hello\")"
   ]
  },
  {
   "cell_type": "code",
   "execution_count": 22,
   "id": "8b124241",
   "metadata": {},
   "outputs": [
    {
     "name": "stdout",
     "output_type": "stream",
     "text": [
      "8\n"
     ]
    }
   ],
   "source": [
    "a=2\n",
    "b=3\n",
    "\n",
    "res = 1\n",
    "x=1\n",
    "\n",
    "while x<=b:\n",
    "    res = res*a\n",
    "    x+=1\n",
    "print(res)\n",
    "\n",
    "    \n",
    "    "
   ]
  },
  {
   "cell_type": "code",
   "execution_count": 9,
   "id": "a13cc32a",
   "metadata": {},
   "outputs": [
    {
     "name": "stdout",
     "output_type": "stream",
     "text": [
      "Enter a num:5\n",
      "Factorial of 5 : 120\n"
     ]
    }
   ],
   "source": [
    "# Factorial \n",
    "\n",
    "fact = 1\n",
    "x = 1\n",
    "\n",
    "num = int(input(\"Enter a num:\"))\n",
    "while x<=5:\n",
    "    fact*=x\n",
    "    x+=1\n",
    "    \n",
    "print(\"Factorial of\",num,\":\",fact)"
   ]
  },
  {
   "cell_type": "code",
   "execution_count": null,
   "id": "ce3c95e6",
   "metadata": {},
   "outputs": [],
   "source": [
    "\n",
    "        \n",
    "    \n",
    "    "
   ]
  },
  {
   "cell_type": "code",
   "execution_count": null,
   "id": "41fe6c75",
   "metadata": {},
   "outputs": [],
   "source": []
  }
 ],
 "metadata": {
  "kernelspec": {
   "display_name": "Python 3 (ipykernel)",
   "language": "python",
   "name": "python3"
  },
  "language_info": {
   "codemirror_mode": {
    "name": "ipython",
    "version": 3
   },
   "file_extension": ".py",
   "mimetype": "text/x-python",
   "name": "python",
   "nbconvert_exporter": "python",
   "pygments_lexer": "ipython3",
   "version": "3.10.9"
  }
 },
 "nbformat": 4,
 "nbformat_minor": 5
}
