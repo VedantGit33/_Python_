{
 "cells": [
  {
   "cell_type": "markdown",
   "id": "20eb395f",
   "metadata": {},
   "source": [
    "## String"
   ]
  },
  {
   "cell_type": "markdown",
   "id": "ce15bfc6",
   "metadata": {},
   "source": [
    "A string is a sequence of characters. Python treats anything inside quotes as a string."
   ]
  },
  {
   "cell_type": "code",
   "execution_count": 1,
   "id": "6adeefbb",
   "metadata": {},
   "outputs": [],
   "source": [
    "sport = \"Cricket\""
   ]
  },
  {
   "cell_type": "code",
   "execution_count": 2,
   "id": "a677051b",
   "metadata": {},
   "outputs": [
    {
     "name": "stdout",
     "output_type": "stream",
     "text": [
      "t\n"
     ]
    }
   ],
   "source": [
    "print(sport[-1])"
   ]
  },
  {
   "cell_type": "code",
   "execution_count": 3,
   "id": "664515a6",
   "metadata": {},
   "outputs": [
    {
     "name": "stdout",
     "output_type": "stream",
     "text": [
      "c\n",
      "c\n"
     ]
    }
   ],
   "source": [
    "print(sport[3])\n",
    "print(sport[-4])"
   ]
  },
  {
   "cell_type": "code",
   "execution_count": 4,
   "id": "6e688531",
   "metadata": {},
   "outputs": [
    {
     "name": "stdout",
     "output_type": "stream",
     "text": [
      "True\n"
     ]
    }
   ],
   "source": [
    "company = \"Datamites\"\n",
    "print(company[2]==company[-7])"
   ]
  },
  {
   "cell_type": "markdown",
   "id": "e6fadc0f",
   "metadata": {},
   "source": [
    "## String Slicing"
   ]
  },
  {
   "cell_type": "code",
   "execution_count": 1,
   "id": "0f00aaa2",
   "metadata": {},
   "outputs": [
    {
     "name": "stdout",
     "output_type": "stream",
     "text": [
      "\n"
     ]
    }
   ],
   "source": [
    "suburb = \"Lohegaon\"\n",
    "print(suburb[-2:-5]) # start < end "
   ]
  },
  {
   "cell_type": "code",
   "execution_count": 3,
   "id": "e971fe6a",
   "metadata": {},
   "outputs": [
    {
     "name": "stdout",
     "output_type": "stream",
     "text": [
      "illi\n"
     ]
    }
   ],
   "source": [
    "country = \"Phillipines\"\n",
    "print(country[2:-5])"
   ]
  },
  {
   "cell_type": "code",
   "execution_count": 13,
   "id": "9ebe30ad",
   "metadata": {},
   "outputs": [
    {
     "name": "stdout",
     "output_type": "stream",
     "text": [
      "lipines\n"
     ]
    }
   ],
   "source": [
    "print(country[4:])"
   ]
  },
  {
   "cell_type": "code",
   "execution_count": 14,
   "id": "e035f0be",
   "metadata": {},
   "outputs": [
    {
     "name": "stdout",
     "output_type": "stream",
     "text": [
      "illipines\n",
      "ipines\n",
      "Ph\n",
      "Phillipines\n"
     ]
    }
   ],
   "source": [
    "print(country[2:])\n",
    "print(country[5:])\n",
    "print(country[:2])\n",
    "print(country[:])"
   ]
  },
  {
   "cell_type": "code",
   "execution_count": 15,
   "id": "5227df92",
   "metadata": {},
   "outputs": [
    {
     "data": {
      "text/plain": [
       "['__add__',\n",
       " '__class__',\n",
       " '__contains__',\n",
       " '__delattr__',\n",
       " '__dir__',\n",
       " '__doc__',\n",
       " '__eq__',\n",
       " '__format__',\n",
       " '__ge__',\n",
       " '__getattribute__',\n",
       " '__getitem__',\n",
       " '__getnewargs__',\n",
       " '__gt__',\n",
       " '__hash__',\n",
       " '__init__',\n",
       " '__init_subclass__',\n",
       " '__iter__',\n",
       " '__le__',\n",
       " '__len__',\n",
       " '__lt__',\n",
       " '__mod__',\n",
       " '__mul__',\n",
       " '__ne__',\n",
       " '__new__',\n",
       " '__reduce__',\n",
       " '__reduce_ex__',\n",
       " '__repr__',\n",
       " '__rmod__',\n",
       " '__rmul__',\n",
       " '__setattr__',\n",
       " '__sizeof__',\n",
       " '__str__',\n",
       " '__subclasshook__',\n",
       " 'capitalize',\n",
       " 'casefold',\n",
       " 'center',\n",
       " 'count',\n",
       " 'encode',\n",
       " 'endswith',\n",
       " 'expandtabs',\n",
       " 'find',\n",
       " 'format',\n",
       " 'format_map',\n",
       " 'index',\n",
       " 'isalnum',\n",
       " 'isalpha',\n",
       " 'isascii',\n",
       " 'isdecimal',\n",
       " 'isdigit',\n",
       " 'isidentifier',\n",
       " 'islower',\n",
       " 'isnumeric',\n",
       " 'isprintable',\n",
       " 'isspace',\n",
       " 'istitle',\n",
       " 'isupper',\n",
       " 'join',\n",
       " 'ljust',\n",
       " 'lower',\n",
       " 'lstrip',\n",
       " 'maketrans',\n",
       " 'partition',\n",
       " 'removeprefix',\n",
       " 'removesuffix',\n",
       " 'replace',\n",
       " 'rfind',\n",
       " 'rindex',\n",
       " 'rjust',\n",
       " 'rpartition',\n",
       " 'rsplit',\n",
       " 'rstrip',\n",
       " 'split',\n",
       " 'splitlines',\n",
       " 'startswith',\n",
       " 'strip',\n",
       " 'swapcase',\n",
       " 'title',\n",
       " 'translate',\n",
       " 'upper',\n",
       " 'zfill']"
      ]
     },
     "execution_count": 15,
     "metadata": {},
     "output_type": "execute_result"
    }
   ],
   "source": [
    "dir(str) # Shows the list of functions in a string."
   ]
  },
  {
   "cell_type": "markdown",
   "id": "70642379",
   "metadata": {},
   "source": [
    "## String Methods"
   ]
  },
  {
   "cell_type": "code",
   "execution_count": 18,
   "id": "7ea0642f",
   "metadata": {},
   "outputs": [
    {
     "data": {
      "text/plain": [
       "False"
      ]
     },
     "execution_count": 18,
     "metadata": {},
     "output_type": "execute_result"
    }
   ],
   "source": [
    "a = \"abc\"\n",
    "a.isupper()"
   ]
  },
  {
   "cell_type": "code",
   "execution_count": 19,
   "id": "7d238b08",
   "metadata": {},
   "outputs": [
    {
     "data": {
      "text/plain": [
       "'vbc'"
      ]
     },
     "execution_count": 19,
     "metadata": {},
     "output_type": "execute_result"
    }
   ],
   "source": [
    "a.replace('a','v')"
   ]
  },
  {
   "cell_type": "code",
   "execution_count": null,
   "id": "6ba6efdc",
   "metadata": {},
   "outputs": [],
   "source": []
  }
 ],
 "metadata": {
  "kernelspec": {
   "display_name": "Python 3 (ipykernel)",
   "language": "python",
   "name": "python3"
  },
  "language_info": {
   "codemirror_mode": {
    "name": "ipython",
    "version": 3
   },
   "file_extension": ".py",
   "mimetype": "text/x-python",
   "name": "python",
   "nbconvert_exporter": "python",
   "pygments_lexer": "ipython3",
   "version": "3.10.9"
  }
 },
 "nbformat": 4,
 "nbformat_minor": 5
}
